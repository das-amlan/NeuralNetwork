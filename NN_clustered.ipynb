{
  "nbformat": 4,
  "nbformat_minor": 0,
  "metadata": {
    "colab": {
      "name": "NN_clustered.ipynb",
      "provenance": []
    },
    "kernelspec": {
      "name": "python3",
      "display_name": "Python 3"
    },
    "language_info": {
      "name": "python"
    }
  },
  "cells": [
    {
      "cell_type": "code",
      "metadata": {
        "id": "1bra_tU5ExR4"
      },
      "source": [
        "import numpy as np\n",
        "import pandas as pd\n",
        "import tensorflow as tf\n",
        "from tensorflow import keras"
      ],
      "execution_count": 1,
      "outputs": []
    },
    {
      "cell_type": "code",
      "metadata": {
        "colab": {
          "base_uri": "https://localhost:8080/",
          "height": 204
        },
        "id": "LIT0DD4CE6rj",
        "outputId": "acb20425-eb44-4e1b-c51a-7873287874be"
      },
      "source": [
        "trainDf = pd.read_csv('https://raw.githubusercontent.com/KeithGalli/neural-nets/master/examples/clusters/data/train.csv')\n",
        "\n",
        "colors_dict = {'red': 0, 'blue': 1, 'green': 2, 'teal':3, 'orange':4, 'purple':5}\n",
        "\n",
        "trainDf['color']= trainDf['color'].map(colors_dict)\n",
        "\n",
        "np.random.shuffle(trainDf.values)\n",
        "trainDf.head()"
      ],
      "execution_count": 8,
      "outputs": [
        {
          "output_type": "execute_result",
          "data": {
            "text/html": [
              "<div>\n",
              "<style scoped>\n",
              "    .dataframe tbody tr th:only-of-type {\n",
              "        vertical-align: middle;\n",
              "    }\n",
              "\n",
              "    .dataframe tbody tr th {\n",
              "        vertical-align: top;\n",
              "    }\n",
              "\n",
              "    .dataframe thead th {\n",
              "        text-align: right;\n",
              "    }\n",
              "</style>\n",
              "<table border=\"1\" class=\"dataframe\">\n",
              "  <thead>\n",
              "    <tr style=\"text-align: right;\">\n",
              "      <th></th>\n",
              "      <th>x</th>\n",
              "      <th>y</th>\n",
              "      <th>color</th>\n",
              "    </tr>\n",
              "  </thead>\n",
              "  <tbody>\n",
              "    <tr>\n",
              "      <th>0</th>\n",
              "      <td>0.129270</td>\n",
              "      <td>1.979720</td>\n",
              "      <td>0</td>\n",
              "    </tr>\n",
              "    <tr>\n",
              "      <th>1</th>\n",
              "      <td>-0.380831</td>\n",
              "      <td>1.693519</td>\n",
              "      <td>0</td>\n",
              "    </tr>\n",
              "    <tr>\n",
              "      <th>2</th>\n",
              "      <td>0.718693</td>\n",
              "      <td>1.791793</td>\n",
              "      <td>0</td>\n",
              "    </tr>\n",
              "    <tr>\n",
              "      <th>3</th>\n",
              "      <td>0.722922</td>\n",
              "      <td>0.620655</td>\n",
              "      <td>0</td>\n",
              "    </tr>\n",
              "    <tr>\n",
              "      <th>4</th>\n",
              "      <td>-0.432689</td>\n",
              "      <td>0.541550</td>\n",
              "      <td>0</td>\n",
              "    </tr>\n",
              "  </tbody>\n",
              "</table>\n",
              "</div>"
            ],
            "text/plain": [
              "          x         y  color\n",
              "0  0.129270  1.979720      0\n",
              "1 -0.380831  1.693519      0\n",
              "2  0.718693  1.791793      0\n",
              "3  0.722922  0.620655      0\n",
              "4 -0.432689  0.541550      0"
            ]
          },
          "metadata": {},
          "execution_count": 8
        }
      ]
    },
    {
      "cell_type": "code",
      "metadata": {
        "colab": {
          "base_uri": "https://localhost:8080/"
        },
        "id": "vfFIF4-PFRAS",
        "outputId": "4c1ea2af-fdc9-4323-cf58-a202c93ec3cb"
      },
      "source": [
        "trainDf.color.unique()"
      ],
      "execution_count": 3,
      "outputs": [
        {
          "output_type": "execute_result",
          "data": {
            "text/plain": [
              "array(['red', 'blue', 'green', 'teal', 'orange', 'purple'], dtype=object)"
            ]
          },
          "metadata": {},
          "execution_count": 3
        }
      ]
    },
    {
      "cell_type": "code",
      "metadata": {
        "colab": {
          "base_uri": "https://localhost:8080/"
        },
        "id": "CbhA530hFU15",
        "outputId": "e17f3e3e-5216-48c0-c67a-450c14372ad9"
      },
      "source": [
        "model = keras.Sequential([\n",
        "    keras.layers.Dense(24, input_shape = (2, ), activation='relu'),\n",
        "    keras.layers.Dense(24, activation='relu'),\n",
        "    keras.layers.Dense(6, activation = 'sigmoid')]\n",
        ")\n",
        "\n",
        "model.compile(optimizer = 'adam',\n",
        "              loss = keras.losses.SparseCategoricalCrossentropy(from_logits=True),\n",
        "              metrics = ['accuracy', 'mse']\n",
        "              )\n",
        "x = np.column_stack((trainDf.x.values, trainDf.y.values))\n",
        "\n",
        "model.fit(x, trainDf.color.values, batch_size=4, epochs=8)"
      ],
      "execution_count": 10,
      "outputs": [
        {
          "output_type": "stream",
          "name": "stdout",
          "text": [
            "Epoch 1/8\n"
          ]
        },
        {
          "output_type": "stream",
          "name": "stderr",
          "text": [
            "/usr/local/lib/python3.7/dist-packages/keras/backend.py:4907: UserWarning: \"`sparse_categorical_crossentropy` received `from_logits=True`, but the `output` argument was produced by a sigmoid or softmax activation and thus does not represent logits. Was this intended?\"\n",
            "  '\"`sparse_categorical_crossentropy` received `from_logits=True`, but '\n"
          ]
        },
        {
          "output_type": "stream",
          "name": "stdout",
          "text": [
            "1500/1500 [==============================] - 3s 2ms/step - loss: 0.6200 - accuracy: 0.7738 - mse: 6.9622\n",
            "Epoch 2/8\n",
            "1500/1500 [==============================] - 2s 1ms/step - loss: 0.1933 - accuracy: 0.9415 - mse: 7.5155\n",
            "Epoch 3/8\n",
            "1500/1500 [==============================] - 2s 1ms/step - loss: 0.1346 - accuracy: 0.9592 - mse: 7.6760\n",
            "Epoch 4/8\n",
            "1500/1500 [==============================] - 2s 2ms/step - loss: 0.1096 - accuracy: 0.9667 - mse: 7.7432\n",
            "Epoch 5/8\n",
            "1500/1500 [==============================] - 2s 1ms/step - loss: 0.0952 - accuracy: 0.9683 - mse: 7.7872\n",
            "Epoch 6/8\n",
            "1500/1500 [==============================] - 2s 1ms/step - loss: 0.0842 - accuracy: 0.9725 - mse: 7.8187\n",
            "Epoch 7/8\n",
            "1500/1500 [==============================] - 2s 1ms/step - loss: 0.0798 - accuracy: 0.9687 - mse: 7.8330\n",
            "Epoch 8/8\n",
            "1500/1500 [==============================] - 2s 1ms/step - loss: 0.0761 - accuracy: 0.9698 - mse: 7.8468\n"
          ]
        },
        {
          "output_type": "execute_result",
          "data": {
            "text/plain": [
              "<keras.callbacks.History at 0x7f0bf8684c90>"
            ]
          },
          "metadata": {},
          "execution_count": 10
        }
      ]
    },
    {
      "cell_type": "code",
      "metadata": {
        "colab": {
          "base_uri": "https://localhost:8080/"
        },
        "id": "ptfYZcS0IsuU",
        "outputId": "f0a28fc0-ea36-41ef-9a86-65f7b35f4e73"
      },
      "source": [
        "testdf = pd.read_csv('https://raw.githubusercontent.com/KeithGalli/neural-nets/master/examples/clusters/data/test.csv')\n",
        "\n",
        "testdf['color']= testdf['color'].map(colors_dict)\n",
        "\n",
        "test_x = np.column_stack((testdf.x.values, testdf.y.values))\n",
        "\n",
        "\n",
        "model.evaluate(test_x, testdf.color.values)"
      ],
      "execution_count": 12,
      "outputs": [
        {
          "output_type": "stream",
          "name": "stdout",
          "text": [
            "38/38 [==============================] - 0s 1ms/step - loss: 0.0637 - accuracy: 0.9792 - mse: 7.8541\n"
          ]
        },
        {
          "output_type": "stream",
          "name": "stderr",
          "text": [
            "/usr/local/lib/python3.7/dist-packages/keras/backend.py:4907: UserWarning: \"`sparse_categorical_crossentropy` received `from_logits=True`, but the `output` argument was produced by a sigmoid or softmax activation and thus does not represent logits. Was this intended?\"\n",
            "  '\"`sparse_categorical_crossentropy` received `from_logits=True`, but '\n"
          ]
        },
        {
          "output_type": "execute_result",
          "data": {
            "text/plain": [
              "[0.06366827338933945, 0.9791666865348816, 7.854088306427002]"
            ]
          },
          "metadata": {},
          "execution_count": 12
        }
      ]
    }
  ]
}