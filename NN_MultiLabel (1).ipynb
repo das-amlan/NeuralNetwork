{
  "nbformat": 4,
  "nbformat_minor": 0,
  "metadata": {
    "colab": {
      "name": "NN_MultiLabel.ipynb",
      "provenance": []
    },
    "kernelspec": {
      "name": "python3",
      "display_name": "Python 3"
    },
    "language_info": {
      "name": "python"
    }
  },
  "cells": [
    {
      "cell_type": "code",
      "metadata": {
        "id": "GgAxyL_SO5QL"
      },
      "source": [
        "import numpy as np\n",
        "import pandas as pd\n",
        "import tensorflow as tf\n",
        "from tensorflow import keras"
      ],
      "execution_count": 48,
      "outputs": []
    },
    {
      "cell_type": "code",
      "metadata": {
        "colab": {
          "base_uri": "https://localhost:8080/",
          "height": 204
        },
        "id": "Lsk1mdJzYuzF",
        "outputId": "23f7e2e3-5dc5-4839-c206-957adf24fa10"
      },
      "source": [
        "train_df = pd.read_csv('https://raw.githubusercontent.com/KeithGalli/neural-nets/master/examples/clusters_two_categories/data/train.csv')\n",
        "train_df.head()\n"
      ],
      "execution_count": 49,
      "outputs": [
        {
          "output_type": "execute_result",
          "data": {
            "text/html": [
              "<div>\n",
              "<style scoped>\n",
              "    .dataframe tbody tr th:only-of-type {\n",
              "        vertical-align: middle;\n",
              "    }\n",
              "\n",
              "    .dataframe tbody tr th {\n",
              "        vertical-align: top;\n",
              "    }\n",
              "\n",
              "    .dataframe thead th {\n",
              "        text-align: right;\n",
              "    }\n",
              "</style>\n",
              "<table border=\"1\" class=\"dataframe\">\n",
              "  <thead>\n",
              "    <tr style=\"text-align: right;\">\n",
              "      <th></th>\n",
              "      <th>x</th>\n",
              "      <th>y</th>\n",
              "      <th>color</th>\n",
              "      <th>marker</th>\n",
              "    </tr>\n",
              "  </thead>\n",
              "  <tbody>\n",
              "    <tr>\n",
              "      <th>0</th>\n",
              "      <td>-0.765775</td>\n",
              "      <td>1.006452</td>\n",
              "      <td>red</td>\n",
              "      <td>^</td>\n",
              "    </tr>\n",
              "    <tr>\n",
              "      <th>1</th>\n",
              "      <td>0.229016</td>\n",
              "      <td>0.094320</td>\n",
              "      <td>red</td>\n",
              "      <td>^</td>\n",
              "    </tr>\n",
              "    <tr>\n",
              "      <th>2</th>\n",
              "      <td>0.189987</td>\n",
              "      <td>1.589141</td>\n",
              "      <td>red</td>\n",
              "      <td>^</td>\n",
              "    </tr>\n",
              "    <tr>\n",
              "      <th>3</th>\n",
              "      <td>0.580085</td>\n",
              "      <td>0.520488</td>\n",
              "      <td>red</td>\n",
              "      <td>^</td>\n",
              "    </tr>\n",
              "    <tr>\n",
              "      <th>4</th>\n",
              "      <td>0.292287</td>\n",
              "      <td>0.317852</td>\n",
              "      <td>red</td>\n",
              "      <td>^</td>\n",
              "    </tr>\n",
              "  </tbody>\n",
              "</table>\n",
              "</div>"
            ],
            "text/plain": [
              "          x         y color marker\n",
              "0 -0.765775  1.006452   red      ^\n",
              "1  0.229016  0.094320   red      ^\n",
              "2  0.189987  1.589141   red      ^\n",
              "3  0.580085  0.520488   red      ^\n",
              "4  0.292287  0.317852   red      ^"
            ]
          },
          "metadata": {},
          "execution_count": 49
        }
      ]
    },
    {
      "cell_type": "code",
      "metadata": {
        "id": "ATMV9RFoaYtX"
      },
      "source": [
        "onehot_color = pd.get_dummies(train_df.color).values\n",
        "onehot_marker = pd.get_dummies(train_df.marker).values\n",
        "\n",
        "labels = np.concatenate((onehot_color, onehot_marker), axis = 1)"
      ],
      "execution_count": 50,
      "outputs": []
    },
    {
      "cell_type": "code",
      "metadata": {
        "colab": {
          "base_uri": "https://localhost:8080/"
        },
        "id": "AeWMNQHgawtv",
        "outputId": "ae6750fc-ae17-46bd-b792-2b72d511b08f"
      },
      "source": [
        "model = keras.Sequential([\n",
        "                          keras.layers.Dense(64, input_shape = (2, ), activation='relu'),\n",
        "                          keras.layers.Dense(64, activation='relu'), \n",
        "                          keras.layers.Dense(9, activation='sigmoid')\n",
        "])\n",
        "\n",
        "model.compile(optimizer=\"adam\", \n",
        "              loss = keras.losses.BinaryCrossentropy(from_logits=True), \n",
        "              metrics=[keras.metrics.BinaryAccuracy()]\n",
        "              )\n",
        "\n",
        "x = np.column_stack((train_df.x.values, train_df.y.values))\n",
        "\n",
        "np.random.RandomState(seed = 121).shuffle(x)\n",
        "np.random.RandomState(seed = 121).shuffle(labels)\n",
        "\n",
        "model.fit(x, labels, batch_size=4, epochs = 10)"
      ],
      "execution_count": 51,
      "outputs": [
        {
          "output_type": "stream",
          "name": "stdout",
          "text": [
            "Epoch 1/10\n"
          ]
        },
        {
          "output_type": "stream",
          "name": "stderr",
          "text": [
            "/usr/local/lib/python3.7/dist-packages/keras/backend.py:4994: UserWarning: \"`binary_crossentropy` received `from_logits=True`, but the `output` argument was produced by a sigmoid or softmax activation and thus does not represent logits. Was this intended?\"\n",
            "  '\"`binary_crossentropy` received `from_logits=True`, but the `output`'\n"
          ]
        },
        {
          "output_type": "stream",
          "name": "stdout",
          "text": [
            "1500/1500 [==============================] - 2s 1ms/step - loss: 0.1976 - binary_accuracy: 0.9135\n",
            "Epoch 2/10\n",
            "1500/1500 [==============================] - 2s 1ms/step - loss: 0.0693 - binary_accuracy: 0.9767\n",
            "Epoch 3/10\n",
            "1500/1500 [==============================] - 2s 1ms/step - loss: 0.0472 - binary_accuracy: 0.9831\n",
            "Epoch 4/10\n",
            "1500/1500 [==============================] - 2s 1ms/step - loss: 0.0386 - binary_accuracy: 0.9861\n",
            "Epoch 5/10\n",
            "1500/1500 [==============================] - 2s 1ms/step - loss: 0.0343 - binary_accuracy: 0.9868\n",
            "Epoch 6/10\n",
            "1500/1500 [==============================] - 2s 1ms/step - loss: 0.0306 - binary_accuracy: 0.9885\n",
            "Epoch 7/10\n",
            "1500/1500 [==============================] - 2s 1ms/step - loss: 0.0285 - binary_accuracy: 0.9885\n",
            "Epoch 8/10\n",
            "1500/1500 [==============================] - 2s 1ms/step - loss: 0.0263 - binary_accuracy: 0.9896\n",
            "Epoch 9/10\n",
            "1500/1500 [==============================] - 2s 1ms/step - loss: 0.0252 - binary_accuracy: 0.9901\n",
            "Epoch 10/10\n",
            "1500/1500 [==============================] - 2s 1ms/step - loss: 0.0247 - binary_accuracy: 0.9901\n"
          ]
        },
        {
          "output_type": "execute_result",
          "data": {
            "text/plain": [
              "<keras.callbacks.History at 0x7fd4000e12d0>"
            ]
          },
          "metadata": {},
          "execution_count": 51
        }
      ]
    },
    {
      "cell_type": "code",
      "metadata": {
        "colab": {
          "base_uri": "https://localhost:8080/"
        },
        "id": "Sk6fLNFwoQY8",
        "outputId": "e4aed77c-bc1b-48f8-9017-8d63a1892555"
      },
      "source": [
        "testdf = pd.read_csv('https://raw.githubusercontent.com/KeithGalli/neural-nets/master/examples/clusters_two_categories/data/test.csv')\n",
        "\n",
        "test_x = np.column_stack((testdf.x.values, testdf.y.values))\n",
        "\n",
        "test_onehot_color = pd.get_dummies(testdf.color).values\n",
        "test_onehot_marker = pd.get_dummies(testdf.marker).values\n",
        "\n",
        "test_labels = np.concatenate((test_onehot_color, test_onehot_marker), axis=1)\n",
        "\n",
        "\n",
        "model.evaluate(test_x, test_labels)"
      ],
      "execution_count": 52,
      "outputs": [
        {
          "output_type": "stream",
          "name": "stdout",
          "text": [
            "38/38 [==============================] - 0s 1ms/step - loss: 0.0289 - binary_accuracy: 0.9859\n"
          ]
        },
        {
          "output_type": "stream",
          "name": "stderr",
          "text": [
            "/usr/local/lib/python3.7/dist-packages/keras/backend.py:4994: UserWarning: \"`binary_crossentropy` received `from_logits=True`, but the `output` argument was produced by a sigmoid or softmax activation and thus does not represent logits. Was this intended?\"\n",
            "  '\"`binary_crossentropy` received `from_logits=True`, but the `output`'\n"
          ]
        },
        {
          "output_type": "execute_result",
          "data": {
            "text/plain": [
              "[0.02889544889330864, 0.9859259128570557]"
            ]
          },
          "metadata": {},
          "execution_count": 52
        }
      ]
    }
  ]
}