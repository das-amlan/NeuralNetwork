{
  "nbformat": 4,
  "nbformat_minor": 0,
  "metadata": {
    "colab": {
      "name": "NeuralNetwork.ipynb",
      "provenance": []
    },
    "kernelspec": {
      "name": "python3",
      "display_name": "Python 3"
    },
    "language_info": {
      "name": "python"
    }
  },
  "cells": [
    {
      "cell_type": "code",
      "metadata": {
        "id": "YUH7uCL-AkL3"
      },
      "source": [
        "import pandas as pd\n",
        "import numpy as np\n",
        "import tensorflow as tf\n",
        "from tensorflow import keras "
      ],
      "execution_count": 2,
      "outputs": []
    },
    {
      "cell_type": "code",
      "metadata": {
        "colab": {
          "base_uri": "https://localhost:8080/",
          "height": 204
        },
        "id": "JMpfezOnA8Jb",
        "outputId": "990fbb77-a050-4a34-aac2-4831dc78b455"
      },
      "source": [
        "traindf = pd.read_csv('https://raw.githubusercontent.com/KeithGalli/neural-nets/master/examples/complex/data/train.csv')\n",
        "np.random.shuffle(traindf.values)\n",
        "traindf.head()"
      ],
      "execution_count": 4,
      "outputs": [
        {
          "output_type": "execute_result",
          "data": {
            "text/html": [
              "<div>\n",
              "<style scoped>\n",
              "    .dataframe tbody tr th:only-of-type {\n",
              "        vertical-align: middle;\n",
              "    }\n",
              "\n",
              "    .dataframe tbody tr th {\n",
              "        vertical-align: top;\n",
              "    }\n",
              "\n",
              "    .dataframe thead th {\n",
              "        text-align: right;\n",
              "    }\n",
              "</style>\n",
              "<table border=\"1\" class=\"dataframe\">\n",
              "  <thead>\n",
              "    <tr style=\"text-align: right;\">\n",
              "      <th></th>\n",
              "      <th>x</th>\n",
              "      <th>y</th>\n",
              "      <th>color</th>\n",
              "    </tr>\n",
              "  </thead>\n",
              "  <tbody>\n",
              "    <tr>\n",
              "      <th>0</th>\n",
              "      <td>0.739918</td>\n",
              "      <td>-3.550513</td>\n",
              "      <td>1.0</td>\n",
              "    </tr>\n",
              "    <tr>\n",
              "      <th>1</th>\n",
              "      <td>-2.517661</td>\n",
              "      <td>4.115877</td>\n",
              "      <td>1.0</td>\n",
              "    </tr>\n",
              "    <tr>\n",
              "      <th>2</th>\n",
              "      <td>-2.315395</td>\n",
              "      <td>-4.504255</td>\n",
              "      <td>1.0</td>\n",
              "    </tr>\n",
              "    <tr>\n",
              "      <th>3</th>\n",
              "      <td>-2.460536</td>\n",
              "      <td>4.944629</td>\n",
              "      <td>1.0</td>\n",
              "    </tr>\n",
              "    <tr>\n",
              "      <th>4</th>\n",
              "      <td>3.095782</td>\n",
              "      <td>-0.446791</td>\n",
              "      <td>0.0</td>\n",
              "    </tr>\n",
              "  </tbody>\n",
              "</table>\n",
              "</div>"
            ],
            "text/plain": [
              "          x         y  color\n",
              "0  0.739918 -3.550513    1.0\n",
              "1 -2.517661  4.115877    1.0\n",
              "2 -2.315395 -4.504255    1.0\n",
              "3 -2.460536  4.944629    1.0\n",
              "4  3.095782 -0.446791    0.0"
            ]
          },
          "metadata": {},
          "execution_count": 4
        }
      ]
    },
    {
      "cell_type": "code",
      "metadata": {
        "colab": {
          "base_uri": "https://localhost:8080/"
        },
        "id": "KYA1tlcdBp1T",
        "outputId": "e97ccdf0-cb2f-4550-fb76-c787ed33d1dc"
      },
      "source": [
        "model = keras.Sequential([\n",
        "                          keras.layers.Dense(42, input_shape = (2, ), activation = 'relu'),\n",
        "                          keras.layers.Dense(42, activation = 'relu'),\n",
        "                          keras.layers.Dense(42, activation = 'relu'),\n",
        "                          keras.layers.Dense(2, activation='sigmoid')\n",
        "])\n",
        "\n",
        "model.compile( optimizer = 'adam' ,\n",
        "              loss = keras.losses.SparseCategoricalCrossentropy(from_logits=True),\n",
        "              metrics = ['accuracy']\n",
        "              )\n",
        "\n",
        "x = np.column_stack((traindf.x.values, traindf.y.values))\n",
        "\n",
        "model.fit(x, traindf.color.values, batch_size = 30, epochs = 20)"
      ],
      "execution_count": 24,
      "outputs": [
        {
          "output_type": "stream",
          "name": "stdout",
          "text": [
            "Epoch 1/20\n"
          ]
        },
        {
          "output_type": "stream",
          "name": "stderr",
          "text": [
            "/usr/local/lib/python3.7/dist-packages/keras/backend.py:4907: UserWarning: \"`sparse_categorical_crossentropy` received `from_logits=True`, but the `output` argument was produced by a sigmoid or softmax activation and thus does not represent logits. Was this intended?\"\n",
            "  '\"`sparse_categorical_crossentropy` received `from_logits=True`, but '\n"
          ]
        },
        {
          "output_type": "stream",
          "name": "stdout",
          "text": [
            "667/667 [==============================] - 2s 2ms/step - loss: 0.5888 - accuracy: 0.6683\n",
            "Epoch 2/20\n",
            "667/667 [==============================] - 1s 2ms/step - loss: 0.5268 - accuracy: 0.7573\n",
            "Epoch 3/20\n",
            "667/667 [==============================] - 1s 2ms/step - loss: 0.4942 - accuracy: 0.7763\n",
            "Epoch 4/20\n",
            "667/667 [==============================] - 1s 2ms/step - loss: 0.4699 - accuracy: 0.7875\n",
            "Epoch 5/20\n",
            "667/667 [==============================] - 1s 2ms/step - loss: 0.4459 - accuracy: 0.7965\n",
            "Epoch 6/20\n",
            "667/667 [==============================] - 1s 2ms/step - loss: 0.4187 - accuracy: 0.8068\n",
            "Epoch 7/20\n",
            "667/667 [==============================] - 1s 2ms/step - loss: 0.3862 - accuracy: 0.8285\n",
            "Epoch 8/20\n",
            "667/667 [==============================] - 1s 2ms/step - loss: 0.3590 - accuracy: 0.8375\n",
            "Epoch 9/20\n",
            "667/667 [==============================] - 1s 2ms/step - loss: 0.3338 - accuracy: 0.8512\n",
            "Epoch 10/20\n",
            "667/667 [==============================] - 1s 2ms/step - loss: 0.3119 - accuracy: 0.8593\n",
            "Epoch 11/20\n",
            "667/667 [==============================] - 1s 2ms/step - loss: 0.2957 - accuracy: 0.8669\n",
            "Epoch 12/20\n",
            "667/667 [==============================] - 1s 2ms/step - loss: 0.2801 - accuracy: 0.8757\n",
            "Epoch 13/20\n",
            "667/667 [==============================] - 1s 2ms/step - loss: 0.2660 - accuracy: 0.8835\n",
            "Epoch 14/20\n",
            "667/667 [==============================] - 1s 2ms/step - loss: 0.2569 - accuracy: 0.8888\n",
            "Epoch 15/20\n",
            "667/667 [==============================] - 1s 2ms/step - loss: 0.2444 - accuracy: 0.8950\n",
            "Epoch 16/20\n",
            "667/667 [==============================] - 1s 2ms/step - loss: 0.2384 - accuracy: 0.8957\n",
            "Epoch 17/20\n",
            "667/667 [==============================] - 1s 2ms/step - loss: 0.2305 - accuracy: 0.8985\n",
            "Epoch 18/20\n",
            "667/667 [==============================] - 1s 2ms/step - loss: 0.2205 - accuracy: 0.9046\n",
            "Epoch 19/20\n",
            "667/667 [==============================] - 1s 2ms/step - loss: 0.2105 - accuracy: 0.9103\n",
            "Epoch 20/20\n",
            "667/667 [==============================] - 1s 2ms/step - loss: 0.2065 - accuracy: 0.9104\n"
          ]
        },
        {
          "output_type": "execute_result",
          "data": {
            "text/plain": [
              "<keras.callbacks.History at 0x7f6b6e0d2610>"
            ]
          },
          "metadata": {},
          "execution_count": 24
        }
      ]
    },
    {
      "cell_type": "code",
      "metadata": {
        "colab": {
          "base_uri": "https://localhost:8080/"
        },
        "id": "P6hfHWO1Deob",
        "outputId": "6bd1eb96-5f99-42f7-bec5-90e235619a02"
      },
      "source": [
        "testdf = pd.read_csv('https://raw.githubusercontent.com/KeithGalli/neural-nets/master/examples/complex/data/test.csv')\n",
        "\n",
        "testx = np.column_stack((testdf.x.values, testdf.y.values))\n",
        "\n",
        "model.evaluate(testx, testdf.color.values)"
      ],
      "execution_count": 25,
      "outputs": [
        {
          "output_type": "stream",
          "name": "stdout",
          "text": [
            " 99/157 [=================>............] - ETA: 0s - loss: 0.2059 - accuracy: 0.9119"
          ]
        },
        {
          "output_type": "stream",
          "name": "stderr",
          "text": [
            "/usr/local/lib/python3.7/dist-packages/keras/backend.py:4907: UserWarning: \"`sparse_categorical_crossentropy` received `from_logits=True`, but the `output` argument was produced by a sigmoid or softmax activation and thus does not represent logits. Was this intended?\"\n",
            "  '\"`sparse_categorical_crossentropy` received `from_logits=True`, but '\n"
          ]
        },
        {
          "output_type": "stream",
          "name": "stdout",
          "text": [
            "157/157 [==============================] - 0s 1ms/step - loss: 0.2043 - accuracy: 0.9132\n"
          ]
        },
        {
          "output_type": "execute_result",
          "data": {
            "text/plain": [
              "[0.20431219041347504, 0.9132000207901001]"
            ]
          },
          "metadata": {},
          "execution_count": 25
        }
      ]
    }
  ]
}